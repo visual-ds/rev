{
 "cells": [
  {
   "cell_type": "code",
   "execution_count": 1,
   "metadata": {},
   "outputs": [],
   "source": [
    "import rev\n",
    "# load a chart\n",
    "chart = rev.Chart('examples/vega1.png', text_from=0)"
   ]
  },
  {
   "cell_type": "code",
   "execution_count": null,
   "metadata": {},
   "outputs": [
    {
     "name": "stderr",
     "output_type": "stream",
     "text": [
      "fitting..."
     ]
    }
   ],
   "source": [
    "# training text role classifier\n",
    "import pandas as pd\n",
    "import rev.text\n",
    "data = pd.read_csv('data/features_all.csv')\n",
    "features = data[rev.text.classifier.VALID_COLUMNS]\n",
    "types = data['type']\n",
    "\n",
    "text_clf = rev.text.TextClassifier()\n",
    "text_clf.train(features, types)"
   ]
  },
  {
   "cell_type": "code",
   "execution_count": 2,
   "metadata": {},
   "outputs": [
    {
     "name": "stdout",
     "output_type": "stream",
     "text": [
      "models/mark_classifier/charts5cats/deploy.prototxt\n",
      "models/mark_classifier/charts5cats/snapshots/model_iter_50000.caffemodel\n",
      "models/mark_classifier/charts5cats/ilsvrc_2012_mean.npy\n",
      "['area']\n"
     ]
    }
   ],
   "source": [
    "##########################################################################################\n",
    "# mark type classifier\n",
    "import rev.mark\n",
    "mark_clf = rev.mark.MarkClassifier()\n",
    "print (mark_clf.classify([chart]))"
   ]
  },
  {
   "cell_type": "code",
   "execution_count": 3,
   "metadata": {},
   "outputs": [
    {
     "name": "stdout",
     "output_type": "stream",
     "text": [
      "   fig_id              fig_fn   fw   fh  vscore  hscore    vrange    hrange  \\\n",
      "0    None  examples/vega1.png  472  470    0.04    0.04  0.000000  0.000000   \n",
      "1    None  examples/vega1.png  472  470    0.40    0.04  0.851064  0.000000   \n",
      "2    None  examples/vega1.png  472  470    0.40    0.04  0.851064  0.000000   \n",
      "3    None  examples/vega1.png  472  470    0.40    0.04  0.851064  0.000000   \n",
      "4    None  examples/vega1.png  472  470    0.40    0.04  0.851064  0.000000   \n",
      "5    None  examples/vega1.png  472  470    0.40    0.04  0.851064  0.000000   \n",
      "6    None  examples/vega1.png  472  470    0.40    0.04  0.851064  0.000000   \n",
      "7    None  examples/vega1.png  472  470    0.40    0.04  0.851064  0.000000   \n",
      "8    None  examples/vega1.png  472  470    0.40    0.04  0.851064  0.000000   \n",
      "9    None  examples/vega1.png  472  470    0.40    0.04  0.851064  0.000000   \n",
      "10   None  examples/vega1.png  472  470    0.40    0.04  0.851064  0.000000   \n",
      "11   None  examples/vega1.png  472  470    0.08    0.04  0.054255  0.000000   \n",
      "12   None  examples/vega1.png  472  470    0.04    0.52  0.000000  0.847458   \n",
      "13   None  examples/vega1.png  472  470    0.04    0.52  0.000000  0.847458   \n",
      "14   None  examples/vega1.png  472  470    0.04    0.52  0.000000  0.847458   \n",
      "15   None  examples/vega1.png  472  470    0.04    0.52  0.000000  0.847458   \n",
      "16   None  examples/vega1.png  472  470    0.04    0.52  0.000000  0.847458   \n",
      "17   None  examples/vega1.png  472  470    0.04    0.52  0.000000  0.847458   \n",
      "18   None  examples/vega1.png  472  470    0.08    0.52  0.054255  0.847458   \n",
      "19   None  examples/vega1.png  472  470    0.04    0.52  0.000000  0.847458   \n",
      "20   None  examples/vega1.png  472  470    0.04    0.52  0.000000  0.847458   \n",
      "21   None  examples/vega1.png  472  470    0.04    0.52  0.000000  0.847458   \n",
      "22   None  examples/vega1.png  472  470    0.04    0.52  0.000000  0.847458   \n",
      "23   None  examples/vega1.png  472  470    0.04    0.52  0.000000  0.847458   \n",
      "24   None  examples/vega1.png  472  470    0.04    0.52  0.000000  0.847458   \n",
      "\n",
      "    vfreq   hfreq  ...        v2        uc        vc        du        dv  \\\n",
      "0    0.00  0.0000  ...  0.656148  0.023835  0.451578 -1.000000 -0.505985   \n",
      "1    0.89  0.0000  ...  0.036997  0.076923  0.018498 -0.887324 -1.000000   \n",
      "2    0.89  0.0000  ...  0.132753  0.076923  0.114255 -0.887324 -0.808487   \n",
      "3    0.89  0.0000  ...  0.230686  0.076923  0.212187 -0.887324 -0.612622   \n",
      "4    0.89  0.0000  ...  0.326442  0.076923  0.307943 -0.887324 -0.421110   \n",
      "5    0.89  0.0000  ...  0.424374  0.076923  0.405876 -0.887324 -0.225245   \n",
      "6    0.89  0.0000  ...  0.520131  0.076923  0.501632 -0.887324  0.040261   \n",
      "7    0.89  0.0000  ...  0.618063  0.076923  0.599565 -0.887324  0.236126   \n",
      "8    0.89  0.0000  ...  0.713819  0.076923  0.695321 -0.887324  0.427639   \n",
      "9    0.89  0.0000  ...  0.811752  0.085590  0.793254 -0.852654  0.623504   \n",
      "10   0.89  0.0000  ...  0.907508  0.085590  0.889010 -0.852654  0.815016   \n",
      "11   0.00  0.0000  ...  1.000000  0.546046  0.973885  0.319610  1.000000   \n",
      "12   0.00  0.9175  ...  0.941240  0.979415  0.918390  1.000000  0.882481   \n",
      "13   0.00  0.9175  ...  0.941240  0.907909  0.918390  0.856988  0.882481   \n",
      "14   0.00  0.9175  ...  0.941240  0.834236  0.918390  0.709642  0.882481   \n",
      "15   0.00  0.9175  ...  0.941240  0.762730  0.918390  0.566631  0.882481   \n",
      "16   0.00  0.9175  ...  0.941240  0.691224  0.918390  0.423619  0.882481   \n",
      "17   0.00  0.9175  ...  0.941240  0.617551  0.918390  0.276273  0.882481   \n",
      "18   0.00  0.9175  ...  0.941240  0.546046  0.918390  0.133261  0.882481   \n",
      "19   0.00  0.9175  ...  0.941240  0.474540  0.918390 -0.092091  0.882481   \n",
      "20   0.00  0.9175  ...  0.941240  0.400867  0.918390 -0.239437  0.882481   \n",
      "21   0.00  0.9175  ...  0.941240  0.329361  0.918390 -0.382449  0.882481   \n",
      "22   0.00  0.9175  ...  0.941240  0.257855  0.918390 -0.525460  0.882481   \n",
      "23   0.00  0.9175  ...  0.941240  0.184182  0.918390 -0.672806  0.882481   \n",
      "24   0.00  0.9175  ...  0.941240  0.112676  0.918390 -0.815818  0.882481   \n",
      "\n",
      "         adu       adv       rad               text          type  \n",
      "0   1.000000  0.505985  1.120723  Number of Records  y-axis-title  \n",
      "1   0.887324  1.000000  1.336916                 45  y-axis-label  \n",
      "2   0.887324  0.808487  1.200415                 40  y-axis-label  \n",
      "3   0.887324  0.612622  1.078262                 35  y-axis-label  \n",
      "4   0.887324  0.421110  0.982180                 30  y-axis-label  \n",
      "5   0.887324  0.225245  0.915467                 25  y-axis-label  \n",
      "6   0.887324  0.040261  0.888237                 20  y-axis-label  \n",
      "7   0.887324  0.236126  0.918204                 15  y-axis-label  \n",
      "8   0.887324  0.427639  0.984997                 10  y-axis-label  \n",
      "9   0.852654  0.623504  1.056303                  5  y-axis-label  \n",
      "10  0.852654  0.815016  1.179522                  0  y-axis-label  \n",
      "11  0.319610  1.000000  1.049834         BIN(yield)  x-axis-title  \n",
      "12  1.000000  0.882481  1.333706                 70  x-axis-label  \n",
      "13  0.856988  0.882481  1.230122                 65  x-axis-label  \n",
      "14  0.709642  0.882481  1.132416                 60  x-axis-label  \n",
      "15  0.566631  0.882481  1.048734                 55  x-axis-label  \n",
      "16  0.423619  0.882481  0.978890                 50  x-axis-label  \n",
      "17  0.276273  0.882481  0.924716                 45  x-axis-label  \n",
      "18  0.133261  0.882481  0.892486                 40  x-axis-label  \n",
      "19  0.092091  0.882481  0.887273                 35  x-axis-label  \n",
      "20  0.239437  0.882481  0.914386                 30  x-axis-label  \n",
      "21  0.382449  0.882481  0.961790                 25  x-axis-label  \n",
      "22  0.525460  0.882481  1.027074                 20  x-axis-label  \n",
      "23  0.672806  0.882481  1.109703                 15  x-axis-label  \n",
      "24  0.815818  0.882481  1.201803                 10  x-axis-label  \n",
      "\n",
      "[25 rows x 46 columns]\n"
     ]
    }
   ],
   "source": [
    "##########################################################################################\n",
    "#feature extraction (single)\n",
    "import rev.text\n",
    "text_features = rev.text.feature_extractor.from_chart(chart)\n",
    "print (text_features)"
   ]
  },
  {
   "cell_type": "code",
   "execution_count": 4,
   "metadata": {},
   "outputs": [
    {
     "name": "stdout",
     "output_type": "stream",
     "text": [
      "   fig_id              fig_fn   fw   fh  vscore  hscore    vrange    hrange  \\\n",
      "0    None  examples/vega1.png  472  470    0.04    0.04  0.000000  0.000000   \n",
      "1    None  examples/vega1.png  472  470    0.40    0.04  0.851064  0.000000   \n",
      "2    None  examples/vega1.png  472  470    0.40    0.04  0.851064  0.000000   \n",
      "3    None  examples/vega1.png  472  470    0.40    0.04  0.851064  0.000000   \n",
      "4    None  examples/vega1.png  472  470    0.40    0.04  0.851064  0.000000   \n",
      "5    None  examples/vega1.png  472  470    0.40    0.04  0.851064  0.000000   \n",
      "6    None  examples/vega1.png  472  470    0.40    0.04  0.851064  0.000000   \n",
      "7    None  examples/vega1.png  472  470    0.40    0.04  0.851064  0.000000   \n",
      "8    None  examples/vega1.png  472  470    0.40    0.04  0.851064  0.000000   \n",
      "9    None  examples/vega1.png  472  470    0.40    0.04  0.851064  0.000000   \n",
      "10   None  examples/vega1.png  472  470    0.40    0.04  0.851064  0.000000   \n",
      "11   None  examples/vega1.png  472  470    0.08    0.04  0.054255  0.000000   \n",
      "12   None  examples/vega1.png  472  470    0.04    0.52  0.000000  0.847458   \n",
      "13   None  examples/vega1.png  472  470    0.04    0.52  0.000000  0.847458   \n",
      "14   None  examples/vega1.png  472  470    0.04    0.52  0.000000  0.847458   \n",
      "15   None  examples/vega1.png  472  470    0.04    0.52  0.000000  0.847458   \n",
      "16   None  examples/vega1.png  472  470    0.04    0.52  0.000000  0.847458   \n",
      "17   None  examples/vega1.png  472  470    0.04    0.52  0.000000  0.847458   \n",
      "18   None  examples/vega1.png  472  470    0.08    0.52  0.054255  0.847458   \n",
      "19   None  examples/vega1.png  472  470    0.04    0.52  0.000000  0.847458   \n",
      "20   None  examples/vega1.png  472  470    0.04    0.52  0.000000  0.847458   \n",
      "21   None  examples/vega1.png  472  470    0.04    0.52  0.000000  0.847458   \n",
      "22   None  examples/vega1.png  472  470    0.04    0.52  0.000000  0.847458   \n",
      "23   None  examples/vega1.png  472  470    0.04    0.52  0.000000  0.847458   \n",
      "24   None  examples/vega1.png  472  470    0.04    0.52  0.000000  0.847458   \n",
      "\n",
      "    vfreq   hfreq  ...        v2        uc        vc        du        dv  \\\n",
      "0    0.00  0.0000  ...  0.656148  0.023835  0.451578 -1.000000 -0.505985   \n",
      "1    0.89  0.0000  ...  0.036997  0.076923  0.018498 -0.887324 -1.000000   \n",
      "2    0.89  0.0000  ...  0.132753  0.076923  0.114255 -0.887324 -0.808487   \n",
      "3    0.89  0.0000  ...  0.230686  0.076923  0.212187 -0.887324 -0.612622   \n",
      "4    0.89  0.0000  ...  0.326442  0.076923  0.307943 -0.887324 -0.421110   \n",
      "5    0.89  0.0000  ...  0.424374  0.076923  0.405876 -0.887324 -0.225245   \n",
      "6    0.89  0.0000  ...  0.520131  0.076923  0.501632 -0.887324  0.040261   \n",
      "7    0.89  0.0000  ...  0.618063  0.076923  0.599565 -0.887324  0.236126   \n",
      "8    0.89  0.0000  ...  0.713819  0.076923  0.695321 -0.887324  0.427639   \n",
      "9    0.89  0.0000  ...  0.811752  0.085590  0.793254 -0.852654  0.623504   \n",
      "10   0.89  0.0000  ...  0.907508  0.085590  0.889010 -0.852654  0.815016   \n",
      "11   0.00  0.0000  ...  1.000000  0.546046  0.973885  0.319610  1.000000   \n",
      "12   0.00  0.9175  ...  0.941240  0.979415  0.918390  1.000000  0.882481   \n",
      "13   0.00  0.9175  ...  0.941240  0.907909  0.918390  0.856988  0.882481   \n",
      "14   0.00  0.9175  ...  0.941240  0.834236  0.918390  0.709642  0.882481   \n",
      "15   0.00  0.9175  ...  0.941240  0.762730  0.918390  0.566631  0.882481   \n",
      "16   0.00  0.9175  ...  0.941240  0.691224  0.918390  0.423619  0.882481   \n",
      "17   0.00  0.9175  ...  0.941240  0.617551  0.918390  0.276273  0.882481   \n",
      "18   0.00  0.9175  ...  0.941240  0.546046  0.918390  0.133261  0.882481   \n",
      "19   0.00  0.9175  ...  0.941240  0.474540  0.918390 -0.092091  0.882481   \n",
      "20   0.00  0.9175  ...  0.941240  0.400867  0.918390 -0.239437  0.882481   \n",
      "21   0.00  0.9175  ...  0.941240  0.329361  0.918390 -0.382449  0.882481   \n",
      "22   0.00  0.9175  ...  0.941240  0.257855  0.918390 -0.525460  0.882481   \n",
      "23   0.00  0.9175  ...  0.941240  0.184182  0.918390 -0.672806  0.882481   \n",
      "24   0.00  0.9175  ...  0.941240  0.112676  0.918390 -0.815818  0.882481   \n",
      "\n",
      "         adu       adv       rad               text          type  \n",
      "0   1.000000  0.505985  1.120723  Number of Records  y-axis-title  \n",
      "1   0.887324  1.000000  1.336916                 45  y-axis-label  \n",
      "2   0.887324  0.808487  1.200415                 40  y-axis-label  \n",
      "3   0.887324  0.612622  1.078262                 35  y-axis-label  \n",
      "4   0.887324  0.421110  0.982180                 30  y-axis-label  \n",
      "5   0.887324  0.225245  0.915467                 25  y-axis-label  \n",
      "6   0.887324  0.040261  0.888237                 20  y-axis-label  \n",
      "7   0.887324  0.236126  0.918204                 15  y-axis-label  \n",
      "8   0.887324  0.427639  0.984997                 10  y-axis-label  \n",
      "9   0.852654  0.623504  1.056303                  5  y-axis-label  \n",
      "10  0.852654  0.815016  1.179522                  0  y-axis-label  \n",
      "11  0.319610  1.000000  1.049834         BIN(yield)  x-axis-title  \n",
      "12  1.000000  0.882481  1.333706                 70  x-axis-label  \n",
      "13  0.856988  0.882481  1.230122                 65  x-axis-label  \n",
      "14  0.709642  0.882481  1.132416                 60  x-axis-label  \n",
      "15  0.566631  0.882481  1.048734                 55  x-axis-label  \n",
      "16  0.423619  0.882481  0.978890                 50  x-axis-label  \n",
      "17  0.276273  0.882481  0.924716                 45  x-axis-label  \n",
      "18  0.133261  0.882481  0.892486                 40  x-axis-label  \n",
      "19  0.092091  0.882481  0.887273                 35  x-axis-label  \n",
      "20  0.239437  0.882481  0.914386                 30  x-axis-label  \n",
      "21  0.382449  0.882481  0.961790                 25  x-axis-label  \n",
      "22  0.525460  0.882481  1.027074                 20  x-axis-label  \n",
      "23  0.672806  0.882481  1.109703                 15  x-axis-label  \n",
      "24  0.815818  0.882481  1.201803                 10  x-axis-label  \n",
      "\n",
      "[25 rows x 46 columns]\n"
     ]
    }
   ],
   "source": [
    "##########################################################################################\n",
    "# feature extraction (corpus)\n",
    "import rev.text\n",
    "text_features = rev.text.feature_extractor.from_chart(chart)\n",
    "print (text_features)"
   ]
  },
  {
   "cell_type": "code",
   "execution_count": 7,
   "metadata": {},
   "outputs": [
    {
     "name": "stdout",
     "output_type": "stream",
     "text": [
      "['y-axis-title' 'y-axis-label' 'y-axis-label' 'y-axis-label'\n",
      " 'y-axis-label' 'y-axis-label' 'y-axis-label' 'y-axis-label'\n",
      " 'y-axis-label' 'y-axis-label' 'y-axis-label' 'x-axis-title'\n",
      " 'x-axis-label' 'x-axis-label' 'x-axis-label' 'x-axis-label'\n",
      " 'x-axis-label' 'x-axis-label' 'x-axis-label' 'x-axis-label'\n",
      " 'x-axis-label' 'x-axis-label' 'x-axis-label' 'x-axis-label'\n",
      " 'x-axis-label']\n"
     ]
    }
   ],
   "source": [
    "##########################################################################################\n",
    "# text role classification\n",
    "import rev\n",
    "# load a chart\n",
    "chart = rev.Chart('examples/vega1.png', text_from=0)\n",
    "import rev.text\n",
    "text_clf = rev.text.TextClassifier('default')\n",
    "text_type_preds = text_clf.classify(chart)\n",
    "print (text_type_preds)\n",
    "##########################################################################################"
   ]
  },
  {
   "cell_type": "code",
   "execution_count": 6,
   "metadata": {},
   "outputs": [
    {
     "name": "stderr",
     "output_type": "stream",
     "text": [
      "fitting..."
     ]
    },
    {
     "name": "stdout",
     "output_type": "stream",
     "text": [
      "DONE\n"
     ]
    },
    {
     "name": "stderr",
     "output_type": "stream",
     "text": [
      "evaluating..."
     ]
    },
    {
     "name": "stdout",
     "output_type": "stream",
     "text": [
      "DONE\n",
      "                 legend-label legend-title   text-label        title x-axis-label x-axis-title y-axis-label y-axis-title \n",
      "    legend-label       9508.0          6.0          0.0          0.0          1.0          0.0          3.0          0.0 \n",
      "    legend-title          0.0       1425.0          0.0          0.0          0.0          0.0          0.0          0.0 \n",
      "      text-label          0.0          0.0        712.0          0.0          0.0          0.0          0.0          0.0 \n",
      "           title          0.0          0.0          0.0         50.0          0.0          0.0          0.0          0.0 \n",
      "    x-axis-label          5.0          0.0          0.0          0.0      41920.0          1.0          0.0          0.0 \n",
      "    x-axis-title          0.0         10.0          0.0          0.0          0.0       4674.0          0.0          0.0 \n",
      "    y-axis-label        148.0          3.0          2.0          0.0          0.0          0.0      50472.0          2.0 \n",
      "    y-axis-title          0.0          0.0          0.0          0.0          0.0          0.0          0.0       4651.0 \n",
      "accuracy:  0.9984065919554902\n",
      "wrong boxes:  181\n"
     ]
    }
   ],
   "source": [
    "# training text role classifier\n",
    "import rev.text\n",
    "import pandas as pd\n",
    "data = pd.read_csv('data/features_all.csv')\n",
    "features = data[rev.text.classifier.VALID_COLUMNS]\n",
    "types = data['type']\n",
    "\n",
    "text_clf = rev.text.TextClassifier()\n",
    "text_clf.train(features, types)\n",
    "text_clf.save_model('models/new_text_role_classifier/text_type_classifier.pkl')"
   ]
  },
  {
   "cell_type": "code",
   "execution_count": 1,
   "metadata": {},
   "outputs": [
    {
     "name": "stdout",
     "output_type": "stream",
     "text": [
      "<rev.chart.Chart object at 0x7fabdc4dfb70>\n"
     ]
    }
   ],
   "source": [
    "import rev\n",
    "from rev.text.localizer import TextLocalizer\n",
    "# load a chart\n",
    "chart = rev.Chart('examples/vega1.png', text_from=0)\n",
    "myLocalizer = TextLocalizer(chart)\n",
    "myLocalizer.localize()\n",
    "#el archivo example/vega1-pred2.csv fue escrito con randoms bboxes\n",
    "print(char)"
   ]
  },
  {
   "cell_type": "code",
   "execution_count": null,
   "metadata": {},
   "outputs": [],
   "source": [
    "}"
   ]
  }
 ],
 "metadata": {
  "kernelspec": {
   "display_name": "Python 3",
   "language": "python",
   "name": "python3"
  },
  "language_info": {
   "codemirror_mode": {
    "name": "ipython",
    "version": 3
   },
   "file_extension": ".py",
   "mimetype": "text/x-python",
   "name": "python",
   "nbconvert_exporter": "python",
   "pygments_lexer": "ipython3",
   "version": "3.6.10"
  }
 },
 "nbformat": 4,
 "nbformat_minor": 4
}
