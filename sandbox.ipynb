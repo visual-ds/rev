{
 "cells": [
  {
   "cell_type": "code",
   "execution_count": null,
   "metadata": {},
   "outputs": [],
   "source": [
    "import rev\n",
    "# load a chart\n",
    "chart = rev.Chart('examples/vega1.png', text_from=0)"
   ]
  },
  {
   "cell_type": "code",
   "execution_count": null,
   "metadata": {},
   "outputs": [],
   "source": [
    "# training text role classifier\n",
    "import pandas as pd\n",
    "import rev.text\n",
    "data = pd.read_csv('data/features_all.csv')\n",
    "features = data[rev.text.classifier.VALID_COLUMNS]\n",
    "types = data['type']\n",
    "\n",
    "text_clf = rev.text.TextClassifier()\n",
    "text_clf.train(features, types)"
   ]
  },
  {
   "cell_type": "code",
   "execution_count": null,
   "metadata": {},
   "outputs": [],
   "source": [
    "##########################################################################################\n",
    "# mark type classifier\n",
    "import rev.mark\n",
    "mark_clf = rev.mark.MarkClassifier()\n",
    "print (mark_clf.classify([chart]))"
   ]
  },
  {
   "cell_type": "code",
   "execution_count": null,
   "metadata": {},
   "outputs": [],
   "source": [
    "##########################################################################################\n",
    "#feature extraction (single)\n",
    "import rev.text\n",
    "text_features = rev.text.feature_extractor.from_chart(chart)\n",
    "print (text_features)"
   ]
  },
  {
   "cell_type": "code",
   "execution_count": null,
   "metadata": {},
   "outputs": [],
   "source": [
    "##########################################################################################\n",
    "# text role classification\n",
    "import rev\n",
    "# load a chart\n",
    "chart = rev.Chart('examples/vega1.png', text_from=0)\n",
    "import rev.text\n",
    "text_clf = rev.text.TextClassifier('default')\n",
    "text_type_preds = text_clf.classify(chart)\n",
    "print (text_type_preds)\n",
    "##########################################################################################"
   ]
  },
  {
   "cell_type": "code",
   "execution_count": null,
   "metadata": {},
   "outputs": [],
   "source": [
    "# training text role classifier\n",
    "import rev.text\n",
    "import pandas as pd\n",
    "data = pd.read_csv('data/features_all.csv')\n",
    "features = data[rev.text.classifier.VALID_COLUMNS]\n",
    "types = data['type']\n",
    "\n",
    "text_clf = rev.text.TextClassifier()\n",
    "text_clf.train(features, types)\n",
    "text_clf.save_model('models/new_text_role_classifier/text_type_classifier.pkl')"
   ]
  },
  {
   "cell_type": "code",
   "execution_count": null,
   "metadata": {},
   "outputs": [],
   "source": [
    "%load_ext autoreload\n",
    "%autoreload 2"
   ]
  },
  {
   "cell_type": "code",
   "execution_count": 2,
   "metadata": {},
   "outputs": [
    {
     "name": "stdout",
     "output_type": "stream",
     "text": [
      "[[0 7 0 ... 1 1 1]\n",
      " [4 0 6 ... 2 2 2]\n",
      " [0 0 4 ... 2 2 2]\n",
      " ...\n",
      " [0 5 0 ... 1 1 9]\n",
      " [5 2 0 ... 2 8 0]\n",
      " [3 0 2 ... 0 1 0]]\n",
      "most common character height is:  19\n",
      "most common edge length is:  14\n"
     ]
    }
   ],
   "source": [
    "import rev\n",
    "from rev.text.localizer import TextLocalizer\n",
    "\n",
    "\n",
    "# load a chart\n",
    "chart = rev.Chart('examples/vega1.png', text_from=0)\n",
    "localizer = TextLocalizer(method = 'default')\n",
    "text_boxes = localizer.localize([chart], debug = False)\n",
    "new_chart = chart.copy(text_from=2)\n",
    "new_chart.text_boxes = text_boxes[0]\n",
    "new_chart.save_text_boxes()\n",
    "new_chart.save_debug_image()\n"
   ]
  },
  {
   "cell_type": "code",
   "execution_count": null,
   "metadata": {},
   "outputs": [],
   "source": [
    "import rev\n",
    "from rev.text.localizer import TextLocalizer\n",
    "\n",
    "# load a chart\n",
    "chart = rev.Chart('examples/pmc1.png', text_from=0)\n",
    "localizer = TextLocalizer(method='pixel_link')\n",
    "text_boxes = localizer.localize([chart], debug=False)\n",
    "new_chart = chart.copy(text_from=2)\n",
    "new_chart.text_boxes = text_boxes[0]\n",
    "new_chart.save_text_boxes()\n",
    "new_chart.save_debug_image()\n"
   ]
  },
  {
   "cell_type": "code",
   "execution_count": null,
   "metadata": {},
   "outputs": [],
   "source": []
  }
 ],
 "metadata": {
  "kernelspec": {
   "display_name": "Python 3",
   "language": "python",
   "name": "python3"
  },
  "language_info": {
   "codemirror_mode": {
    "name": "ipython",
    "version": 3
   },
   "file_extension": ".py",
   "mimetype": "text/x-python",
   "name": "python",
   "nbconvert_exporter": "python",
   "pygments_lexer": "ipython3",
   "version": "3.6.10"
  }
 },
 "nbformat": 4,
 "nbformat_minor": 4
}
